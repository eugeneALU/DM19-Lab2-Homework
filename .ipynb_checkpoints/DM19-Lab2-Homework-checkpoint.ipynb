{
 "cells": [
  {
   "cell_type": "markdown",
   "metadata": {},
   "source": [
    "### Student Information\n",
    "Name: 盧奕呈\n",
    "\n",
    "Student ID: 103061135\n",
    "\n",
    "GitHub ID: eugeneALU\n",
    "\n",
    "Kaggle name: Goofy Goober\n",
    "\n",
    "Kaggle private scoreboard snapshot:\n",
    "\n",
    "<img src=\"img/pic0.png\">"
   ]
  },
  {
   "cell_type": "markdown",
   "metadata": {},
   "source": [
    "---"
   ]
  },
  {
   "cell_type": "markdown",
   "metadata": {},
   "source": [
    "### Instructions"
   ]
  },
  {
   "cell_type": "markdown",
   "metadata": {},
   "source": [
    "1. First: __This part is worth 30% of your grade.__ Do the **take home** exercises in the [DM19-Lab2-Master Repo](https://github.com/EvaArevalo/DM19-Lab2-Master). You may need to copy some cells from the Lab notebook to this notebook. \n",
    "\n",
    "\n",
    "2. Second: __This part is worth 30% of your grade.__ Participate in the in-class [Kaggle Competition](https://www.kaggle.com/t/179d01d4dd984fc5ac45a894822479dd) regarding Emotion Recognition on Twitter. The scoring will be given according to your place in the Private Leaderboard ranking: \n",
    "    - **Bottom 40%**: Get 20% of the score (ie. 20% of 30% )\n",
    "\n",
    "    - **Top 41% - 100%**: Get (101-x)% of the score, where x is your ranking in the leaderboard (ie. (101-x)% of 30% )   \n",
    "    Submit your last submission __BEFORE the deadline (Nov. 23rd 11:59 pm, Saturday)__. Make sure to take a screenshot of your position at the end of the competition and store it as '''pic0.png''' under the **img** folder of this repository and rerun the cell **Student Information**.\n",
    "    \n",
    "\n",
    "3. Third: __This part is worth 30% of your grade.__ A report of your work developping the model for the competition (You can use code and comment it). This report should include what your preprocessing steps, the feature engineering steps and an explanation of your model. You can also mention different things you tried and insights you gained. \n",
    "\n",
    "\n",
    "4. Fourth: __This part is worth 10% of your grade.__ It's hard for us to follow if your code is messy :'(, so please **tidy up your notebook** and **add minimal comments where needed**.\n",
    "\n",
    "\n",
    "You can submit your homework following these guidelines: [Git Intro & How to hand your homework](https://github.com/EvaArevalo/DM19-Lab1-Master/blob/master/Git%20Intro%20%26%20How%20to%20hand%20your%20homework.ipynb), but make sure to fork the [DM19-Lab2-Homework](https://github.com/EvaArevalo/DM19-Lab2-Homework) repository this time! Also please __DON´T UPLOAD HUGE DOCUMENTS__, please use Git ignore for that.\n",
    "\n",
    "Make sure to commit and save your changes to your repository __BEFORE the deadline (Nov. 26th 11:59 pm, Tuesday)__. "
   ]
  },
  {
   "cell_type": "markdown",
   "metadata": {},
   "source": [
    "# First Part"
   ]
  },
  {
   "cell_type": "code",
   "execution_count": 1,
   "metadata": {},
   "outputs": [],
   "source": [
    "# load data from the save .pkl files\n",
    "import pandas as pd\n",
    "\n",
    "## load a pickle file\n",
    "train_df = pd.read_pickle(\"train_df.pkl\")\n",
    "test_df = pd.read_pickle(\"test_df.pkl\")"
   ]
  },
  {
   "cell_type": "markdown",
   "metadata": {},
   "source": [
    "---\n",
    "### ** >>> Exercise 1 (Take home): **  \n",
    "Plot word frequency for Top 30 words in both train and test dataset. (Hint: refer to DM lab 1)\n"
   ]
  },
  {
   "cell_type": "code",
   "execution_count": 2,
   "metadata": {},
   "outputs": [],
   "source": [
    "# Answer here\n",
    "import seaborn as sns\n",
    "import matplotlib.pyplot as plt\n",
    "import numpy as np\n",
    "from sklearn.feature_extraction.text import CountVectorizer\n",
    "\n",
    "# combine train and test\n",
    "Text = pd.concat([train_df.text,test_df.text], ignore_index=True)\n",
    "count_vect = CountVectorizer(max_features=30) # only extract top 30 features\n",
    "\n",
    "train_count = count_vect.fit_transform(Text)\n",
    "train_count = np.asarray(train_count.sum(axis=0))[0]\n",
    "\n",
    "# store the result into dataframe in order to sort them later\n",
    "d = {'STR': count_vect.get_feature_names(), 'COUNT': train_count}\n",
    "DATA = pd.DataFrame(data=d)\n",
    "DATA = DATA.sort_values(by='COUNT',ascending=False) # sort the value according to count value\n",
    "\n",
    "# plot the result\n",
    "plt.subplots(figsize=(100, 10))\n",
    "g = sns.barplot(x=DATA.STR, y=DATA.COUNT)\n",
    "g.set_xticklabels(DATA.STR, rotation = 90);"
   ]
  },
  {
   "cell_type": "markdown",
   "metadata": {},
   "source": [
    "---\n",
    "### ** >>> Exercise 2 (Take home): **  \n",
    "Generate an embedding using the TF-IDF vectorizer instead of th BOW one with 1000 features and show the feature names for features [100:110]."
   ]
  },
  {
   "cell_type": "code",
   "execution_count": 3,
   "metadata": {},
   "outputs": [
    {
     "name": "stdout",
     "output_type": "stream",
     "text": [
      "(3613, 1000)\n",
      "['awful', 'b', 'baby', 'back', 'bad', 'ball', 'balls', 'bb18', 'bc', 'bday']\n"
     ]
    }
   ],
   "source": [
    "# Answer here\n",
    "import nltk\n",
    "from sklearn.feature_extraction.text import TfidfVectorizer\n",
    "\n",
    "# limit the max features to 1000\n",
    "TFIDF_1000 = TfidfVectorizer(max_features=1000, tokenizer=nltk.word_tokenize)\n",
    "TFIDF_1000.fit(train_df['text'])\n",
    "\n",
    "# transform the text data\n",
    "train_data_TFIDF_1000 = TFIDF_1000.transform(train_df['text'])\n",
    "print(train_data_TFIDF_1000.shape)\n",
    "\n",
    "# get the feature names\n",
    "feature_names_1000 = TFIDF_1000.get_feature_names()\n",
    "print(feature_names_1000[100:110])"
   ]
  },
  {
   "cell_type": "markdown",
   "metadata": {},
   "source": [
    "### Get the training/testing data"
   ]
  },
  {
   "cell_type": "code",
   "execution_count": 4,
   "metadata": {},
   "outputs": [
    {
     "name": "stdout",
     "output_type": "stream",
     "text": [
      "X_train.shape:  (3613, 500)\n",
      "y_train.shape:  (3613,)\n",
      "X_test.shape:  (347, 500)\n",
      "y_test.shape:  (347,)\n"
     ]
    }
   ],
   "source": [
    "# build analyzers (bag-of-words)\n",
    "BOW_500 = CountVectorizer(max_features=500, tokenizer=nltk.word_tokenize) \n",
    "\n",
    "# apply analyzer to training data\n",
    "BOW_500.fit(train_df['text'])\n",
    "\n",
    "# for a classificaiton problem, you need to provide both training & testing data\n",
    "X_train = BOW_500.transform(train_df['text'])\n",
    "y_train = train_df['emotion']\n",
    "\n",
    "X_test = BOW_500.transform(test_df['text'])\n",
    "y_test = test_df['emotion']\n",
    "\n",
    "## take a look at data dimension is a good habbit\n",
    "print('X_train.shape: ', X_train.shape)\n",
    "print('y_train.shape: ', y_train.shape)\n",
    "print('X_test.shape: ', X_test.shape)\n",
    "print('y_test.shape: ', y_test.shape)"
   ]
  },
  {
   "cell_type": "markdown",
   "metadata": {},
   "source": [
    "---\n",
    "### ** >>> Exercise 3 (Take home): **  \n",
    "Can you interpret the results above? What do they mean?"
   ]
  },
  {
   "cell_type": "code",
   "execution_count": 5,
   "metadata": {},
   "outputs": [
    {
     "data": {
      "text/plain": [
       "\"\\nThe training accuracy is pretty high while the testing accuracy is a lot lower. \\nIt is the sign of overfitting. The model might just learn to much noise or detail in the training set,\\nso the gerneralizability is poor. Since we are using DecisionTree, the method to solve this problem might be 'pruning'. \\nWe can have some restriction of our model in order to prevent it to learn so many detail (include noise in the training set).\\nThe parameters in Scikit-Learn that might help are\\n{'max_depth', max_leaf_nodes}\\n\""
      ]
     },
     "execution_count": 5,
     "metadata": {},
     "output_type": "execute_result"
    }
   ],
   "source": [
    "# Answer here\n",
    "'''\n",
    "The training accuracy is pretty high while the testing accuracy is a lot lower. \n",
    "It is the sign of overfitting. The model might just learn to much noise or detail in the training set,\n",
    "so the gerneralizability is poor. Since we are using DecisionTree, the method to solve this problem might be 'pruning'. \n",
    "We can have some restriction of our model in order to prevent it to learn so many detail (include noise in the training set).\n",
    "The parameters in Scikit-Learn that might help are\n",
    "{'max_depth', max_leaf_nodes}\n",
    "'''"
   ]
  },
  {
   "cell_type": "markdown",
   "metadata": {},
   "source": [
    "---\n",
    "### ** >>> Exercise 4 (Take home): **  \n",
    "Build a model using a ```Naive Bayes``` model and train it. What are the testing results? "
   ]
  },
  {
   "cell_type": "code",
   "execution_count": 6,
   "metadata": {},
   "outputs": [
    {
     "name": "stdout",
     "output_type": "stream",
     "text": [
      "training accuracy: 0.79\n",
      "testing accuracy: 0.7\n"
     ]
    }
   ],
   "source": [
    "# Answer here\n",
    "from sklearn.naive_bayes import MultinomialNB\n",
    "\n",
    "## build DecisionTree model\n",
    "NB_model = MultinomialNB()\n",
    "\n",
    "## training!\n",
    "NB_model = NB_model.fit(X_train, y_train)\n",
    "\n",
    "## predict!\n",
    "y_train_pred = NB_model.predict(X_train)\n",
    "y_test_pred = NB_model.predict(X_test)\n",
    "\n",
    "## accuracy\n",
    "from sklearn.metrics import accuracy_score\n",
    "\n",
    "acc_train = accuracy_score(y_true=y_train, y_pred=y_train_pred)\n",
    "acc_test = accuracy_score(y_true=y_test, y_pred=y_test_pred)\n",
    "\n",
    "print('training accuracy: {}'.format(round(acc_train, 2)))\n",
    "print('testing accuracy: {}'.format(round(acc_test, 2)))"
   ]
  },
  {
   "cell_type": "markdown",
   "metadata": {},
   "source": [
    "---\n",
    "### ** >>> Exercise 5 (Take home): **  \n",
    "\n",
    "How do the results from the Naive Bayes model and the Decision Tree model compare? How do you interpret these differences? Use the theoretical background covered in class to try and explain these differences."
   ]
  },
  {
   "cell_type": "code",
   "execution_count": 7,
   "metadata": {},
   "outputs": [
    {
     "data": {
      "text/plain": [
       "'\\nThe result of Naive Bayes is much reasonable compared to DecisionTree.\\nIt seems there is no overfitting in the Naive Bayes.\\n'"
      ]
     },
     "execution_count": 7,
     "metadata": {},
     "output_type": "execute_result"
    }
   ],
   "source": [
    "# Answer here\n",
    "'''\n",
    "The result of Naive Bayes is much reasonable compared to DecisionTree.\n",
    "It seems there is no overfitting in the Naive Bayes.\n",
    "'''"
   ]
  },
  {
   "cell_type": "markdown",
   "metadata": {},
   "source": [
    "---\n",
    "### ** >>> Exercise 6 (Take home): **  \n",
    "\n",
    "Plot the Training and Validation Accuracy and Loss (different plots), just like the images below (Note: the pictures below are an example from a different model). How to interpret the graphs you got? How are they related to the concept of overfitting/underfitting covered in class?"
   ]
  },
  {
   "cell_type": "code",
   "execution_count": 8,
   "metadata": {},
   "outputs": [
    {
     "data": {
      "text/plain": [
       "<matplotlib.legend.Legend at 0x226daac1d30>"
      ]
     },
     "execution_count": 8,
     "metadata": {},
     "output_type": "execute_result"
    },
    {
     "data": {
      "image/png": "[encoded data removed]",
      "text/plain": [
       "<matplotlib.figure.Figure at 0x226daa2f5f8>"
      ]
     },
     "metadata": {},
     "output_type": "display_data"
    }
   ],
   "source": [
    "# load the training log\n",
    "training_log = pd.DataFrame()\n",
    "training_log = pd.read_csv(\"logs/training_log.csv\")\n",
    "\n",
    "# Answer here\n",
    "import matplotlib.pyplot as plt\n",
    "\n",
    "fig = plt.figure(figsize=(25, 10))\n",
    "ax1 = fig.add_subplot(121)\n",
    "ax1.plot(training_log.epoch, training_log.accuracy, 'r', label='Train accuracy')\n",
    "ax1.plot(training_log.epoch, training_log.val_accuracy, 'b', label='Val accuracy')\n",
    "ax1.set_xlabel('Epochs')\n",
    "ax1.set_ylabel('Accuracy')\n",
    "ax1.set_title('Training Accuracy per epoch')\n",
    "ax1.legend(loc='upper right')\n",
    "\n",
    "ax2 = fig.add_subplot(122)\n",
    "ax2.plot(training_log.epoch, training_log.loss, 'r', label='Train loss')\n",
    "ax2.plot(training_log.epoch, training_log.val_loss, 'b', label='Val loss')\n",
    "ax2.set_xlabel('Epochs')\n",
    "ax2.set_ylabel('Loss')\n",
    "ax2.set_title('Training Loss per epoch')\n",
    "ax2.legend(loc='upper right')"
   ]
  },
  {
   "cell_type": "code",
   "execution_count": 9,
   "metadata": {},
   "outputs": [
    {
     "data": {
      "text/plain": [
       "'\\nAs the figure shows, the training accuracy keep increasing at around 5 epichs while validation accuracy is reaches its peak.\\nOn the other hand, the train loss keep decreasing whike validation loss first decreased and then increased. \\nIt shows that the model is overfitting after training for 5 epochs.\\nWe should stop training at that point in case we learn to much detail in the training set which is not genral features among \\ntrain and test sets.\\n'"
      ]
     },
     "execution_count": 9,
     "metadata": {},
     "output_type": "execute_result"
    }
   ],
   "source": [
    "'''\n",
    "As the figure shows, the training accuracy keep increasing at around 5 epichs while validation accuracy is reaches its peak.\n",
    "On the other hand, the train loss keep decreasing whike validation loss first decreased and then increased. \n",
    "It shows that the model is overfitting after training for 5 epochs.\n",
    "We should stop training at that point in case we learn to much detail in the training set which is not genral features among \n",
    "train and test sets.\n",
    "'''"
   ]
  },
  {
   "cell_type": "markdown",
   "metadata": {},
   "source": [
    "---\n",
    "### ** >>> Exercise 7 (Take home): **  \n",
    "\n",
    "Now, we have the word vectors, but our input data is a sequence of words (or say sentence). \n",
    "How can we utilize these \"word\" vectors to represent the sentence data and train our model?"
   ]
  },
  {
   "cell_type": "code",
   "execution_count": 10,
   "metadata": {},
   "outputs": [
    {
     "data": {
      "text/plain": [
       "'\\n1) Input each word vector into RNN one by one,\\n2) Add all the word vectors together to represent a sententce\\n'"
      ]
     },
     "execution_count": 10,
     "metadata": {},
     "output_type": "execute_result"
    }
   ],
   "source": [
    "# Answer here\n",
    "'''\n",
    "1) Input each word vector into RNN one by one,\n",
    "2) Add all the word vectors together to represent a sententce\n",
    "'''"
   ]
  },
  {
   "cell_type": "markdown",
   "metadata": {},
   "source": [
    "### Load the model and w2v\n",
    "* Since the Google model is too big, I used a smaller one (Twitter_glove)"
   ]
  },
  {
   "cell_type": "code",
   "execution_count": 11,
   "metadata": {},
   "outputs": [
    {
     "name": "stdout",
     "output_type": "stream",
     "text": [
      "load ok\n"
     ]
    }
   ],
   "source": [
    "import gensim.downloader as api\n",
    "\n",
    "## If you see `SSL: CERTIFICATE_VERIFY_FAILED` error, use this:\n",
    "import ssl\n",
    "import urllib.request\n",
    "ssl._create_default_https_context = ssl._create_unverified_context\n",
    "\n",
    "glove_twitter_25_model = api.load(\"glove-twitter-25\")\n",
    "print('load ok')"
   ]
  },
  {
   "cell_type": "markdown",
   "metadata": {},
   "source": [
    "---\n",
    "### ** >>> Exercise 8 (Take home): **  \n",
    "\n",
    "Generate a t-SNE visualization to show the 15 words most related to the words \"angry\", \"happy\", \"sad\", \"fear\" (60 words total)."
   ]
  },
  {
   "cell_type": "code",
   "execution_count": 12,
   "metadata": {},
   "outputs": [
    {
     "name": "stdout",
     "output_type": "stream",
     "text": [
      "happy_words:  ['happy', 'birthday', 'thank', 'welcome', 'love', 'miss', 'hello', 'thanks', 'merry', 'bless', 'wish', 'day', 'dear', 'morning', 'good', 'dream']\n",
      "angry_words:  ['angry', 'stupid', 'hate', 'annoying', 'weird', 'like', 'confused', 'fucking', 'people', 'dislike', 'awkward', 'reason', 'because', 'scary', 'seriously', 'retarded']\n",
      "sad_words:  ['sad', 'swear', 'feel', 'same', 'wrong', 'meant', 'true', 'reason', 'remember', 'i', 'know', 'bad', 'thought', 'think', 'but', 'shame']\n",
      "fear_words:  ['fear', 'anger', 'enemy', 'afraid', 'destroy', 'fears', 'lies', 'faith', 'hatred', 'overcome', 'truth', 'promises', 'enemies', 'minds', 'suffer', 'thoughts']\n"
     ]
    }
   ],
   "source": [
    "# Answer here\n",
    "word_list = ['happy', 'angry', 'sad', 'fear']\n",
    "\n",
    "topn = 15\n",
    "happy_words = ['happy'] + [word_ for word_, sim_ in glove_twitter_25_model.most_similar('happy', topn=topn)]\n",
    "angry_words = ['angry'] + [word_ for word_, sim_ in glove_twitter_25_model.most_similar('angry', topn=topn)]        \n",
    "sad_words = ['sad'] + [word_ for word_, sim_ in glove_twitter_25_model.most_similar('sad', topn=topn)]        \n",
    "fear_words = ['fear'] + [word_ for word_, sim_ in glove_twitter_25_model.most_similar('fear', topn=topn)]        \n",
    "\n",
    "print('happy_words: ', happy_words)\n",
    "print('angry_words: ', angry_words)\n",
    "print('sad_words: ', sad_words)\n",
    "print('fear_words: ', fear_words)\n",
    "\n",
    "target_words = happy_words + angry_words + sad_words + fear_words\n",
    "cn = topn + 1\n",
    "color = ['b'] * cn + ['g'] * cn + ['r'] * cn + ['y'] * cn"
   ]
  },
  {
   "cell_type": "code",
   "execution_count": 13,
   "metadata": {},
   "outputs": [
    {
     "data": {
      "image/png": "[encoded data removed]",
      "text/plain": [
       "<matplotlib.figure.Figure at 0x226d385e6a0>"
      ]
     },
     "metadata": {},
     "output_type": "display_data"
    }
   ],
   "source": [
    "%matplotlib inline\n",
    "import matplotlib.pyplot as plt\n",
    "from sklearn.manifold import TSNE\n",
    "\n",
    "## prepare training word vectors\n",
    "size = 100  # only use 100 here\n",
    "target_size = len(target_words)\n",
    "all_word = list(glove_twitter_25_model.vocab.keys())\n",
    "word_train = target_words + all_word[:size]\n",
    "X_train = glove_twitter_25_model[word_train]\n",
    "\n",
    "## t-SNE model\n",
    "tsne = TSNE(n_components=2, metric='cosine', random_state=28)\n",
    "\n",
    "## training\n",
    "X_tsne = tsne.fit_transform(X_train)\n",
    "\n",
    "## plot the result\n",
    "plt.figure(figsize=(7.5, 7.5), dpi=115)\n",
    "plt.scatter(X_tsne[:target_size, 0], X_tsne[:target_size, 1], c=color)\n",
    "for label, x, y in zip(target_words, X_tsne[:target_size, 0], X_tsne[:target_size, 1]):\n",
    "    plt.annotate(label, xy=(x,y), xytext=(0,0),  textcoords='offset points')\n",
    "plt.show()"
   ]
  },
  {
   "cell_type": "markdown",
   "metadata": {},
   "source": [
    "# Second Part"
   ]
  },
  {
   "cell_type": "code",
   "execution_count": 21,
   "metadata": {
    "scrolled": true
   },
   "outputs": [
    {
     "name": "stdout",
     "output_type": "stream",
     "text": [
      "identification shape =  (1867535, 2)\n",
      "Train:  (1455563, 4)\n",
      "Test:  (411972, 4)\n",
      "(1455563, 2)\n"
     ]
    },
    {
     "data": {
      "text/html": [
       "<div>\n",
       "<style scoped>\n",
       "    .dataframe tbody tr th:only-of-type {\n",
       "        vertical-align: middle;\n",
       "    }\n",
       "\n",
       "    .dataframe tbody tr th {\n",
       "        vertical-align: top;\n",
       "    }\n",
       "\n",
       "    .dataframe thead th {\n",
       "        text-align: right;\n",
       "    }\n",
       "</style>\n",
       "<table border=\"1\" class=\"dataframe\">\n",
       "  <thead>\n",
       "    <tr style=\"text-align: right;\">\n",
       "      <th></th>\n",
       "      <th>hashtags</th>\n",
       "      <th>text</th>\n",
       "      <th>tweet_id</th>\n",
       "      <th>identification</th>\n",
       "      <th>emotion</th>\n",
       "    </tr>\n",
       "  </thead>\n",
       "  <tbody>\n",
       "    <tr>\n",
       "      <th>0</th>\n",
       "      <td>[Snapchat]</td>\n",
       "      <td>People who post \"add me on #Snapchat\" must be ...</td>\n",
       "      <td>0x376b20</td>\n",
       "      <td>train</td>\n",
       "      <td>anticipation</td>\n",
       "    </tr>\n",
       "    <tr>\n",
       "      <th>1</th>\n",
       "      <td>[freepress, TrumpLegacy, CNN]</td>\n",
       "      <td>@brianklaas As we see, Trump is dangerous to #...</td>\n",
       "      <td>0x2d5350</td>\n",
       "      <td>train</td>\n",
       "      <td>sadness</td>\n",
       "    </tr>\n",
       "    <tr>\n",
       "      <th>2</th>\n",
       "      <td>[]</td>\n",
       "      <td>Now ISSA is stalking Tasha 😂😂😂 &lt;LH&gt;</td>\n",
       "      <td>0x1cd5b0</td>\n",
       "      <td>train</td>\n",
       "      <td>fear</td>\n",
       "    </tr>\n",
       "    <tr>\n",
       "      <th>3</th>\n",
       "      <td>[authentic, LaughOutLoud]</td>\n",
       "      <td>@RISKshow @TheKevinAllison Thx for the BEST TI...</td>\n",
       "      <td>0x1d755c</td>\n",
       "      <td>train</td>\n",
       "      <td>joy</td>\n",
       "    </tr>\n",
       "    <tr>\n",
       "      <th>4</th>\n",
       "      <td>[]</td>\n",
       "      <td>Still waiting on those supplies Liscus. &lt;LH&gt;</td>\n",
       "      <td>0x2c91a8</td>\n",
       "      <td>train</td>\n",
       "      <td>anticipation</td>\n",
       "    </tr>\n",
       "  </tbody>\n",
       "</table>\n",
       "</div>"
      ],
      "text/plain": [
       "                        hashtags  \\\n",
       "0                     [Snapchat]   \n",
       "1  [freepress, TrumpLegacy, CNN]   \n",
       "2                             []   \n",
       "3      [authentic, LaughOutLoud]   \n",
       "4                             []   \n",
       "\n",
       "                                                text  tweet_id identification  \\\n",
       "0  People who post \"add me on #Snapchat\" must be ...  0x376b20          train   \n",
       "1  @brianklaas As we see, Trump is dangerous to #...  0x2d5350          train   \n",
       "2                Now ISSA is stalking Tasha 😂😂😂 <LH>  0x1cd5b0          train   \n",
       "3  @RISKshow @TheKevinAllison Thx for the BEST TI...  0x1d755c          train   \n",
       "4       Still waiting on those supplies Liscus. <LH>  0x2c91a8          train   \n",
       "\n",
       "        emotion  \n",
       "0  anticipation  \n",
       "1       sadness  \n",
       "2          fear  \n",
       "3           joy  \n",
       "4  anticipation  "
      ]
     },
     "execution_count": 21,
     "metadata": {},
     "output_type": "execute_result"
    }
   ],
   "source": [
    "#%% ONLY First time, convert json data to csv with the data we care and split into train and test\n",
    "# import json\n",
    "# import pandas as pd\n",
    "# data = []\n",
    "# with open('tweets_DM.json') as f:\n",
    "#     for line in f:\n",
    "#         data.append(json.loads(line)['_source']['tweet'])\n",
    "# tweet = pd.DataFrame.from_dict(data)\n",
    "\n",
    "# identification = pd.read_csv('./data_identification.csv')\n",
    "# print('identification shape = ', identification.shape)\n",
    "\n",
    "# result = pd.merge(tweet, identification, on='tweet_id')\n",
    "# result.head()\n",
    "\n",
    "## extract train and test \n",
    "# Train_tweet = result.loc[result['identification']=='train']\n",
    "# Test_tweet = result.loc[result['identification']=='test']\n",
    "# print('Train: ', Train_tweet.shape)\n",
    "# print('Test: ', Test_tweet.shape)\n",
    "\n",
    "# # combine emotion(the label) also\n",
    "# emo = pd.read_csv('./emotion.csv')\n",
    "# print(emo.shape)\n",
    "\n",
    "# Train_tweet = pd.merge(Train_tweet, emo, on='tweet_id')\n",
    "# Train_tweet.head()\n",
    "\n",
    "## store it for next time usage\n",
    "## use newline here in case Windows add '\\r\\n' as the end of the line\n",
    "# with open('tweet_train.csv', mode='w', newline='\\n', encoding='utf-8') as f:\n",
    "#     Train_tweet.to_csv(f, index=False)\n",
    "# with open('tweet_test.csv', mode='w', newline='\\n', encoding='utf-8') as f:\n",
    "#     Test_tweet.to_csv(f, index=False)"
   ]
  },
  {
   "cell_type": "code",
   "execution_count": 1,
   "metadata": {},
   "outputs": [
    {
     "name": "stderr",
     "output_type": "stream",
     "text": [
      "C:\\Anaconda3\\lib\\site-packages\\h5py\\__init__.py:36: FutureWarning: Conversion of the second argument of issubdtype from `float` to `np.floating` is deprecated. In future, it will be treated as `np.float64 == np.dtype(float).type`.\n",
      "  from ._conv import register_converters as _register_converters\n",
      "Using TensorFlow backend.\n"
     ]
    }
   ],
   "source": [
    "import pandas as pd\n",
    "import numpy as np\n",
    "import nltk\n",
    "import keras\n",
    "from sklearn.feature_extraction.text import TfidfVectorizer\n",
    "from sklearn.preprocessing import LabelEncoder\n",
    "from sklearn.model_selection import train_test_split\n",
    "from xgboost import XGBClassifier      # at first I was using the DecisionTree Classifier, but the performance is poor\n",
    "from sklearn.metrics import auc, f1_score"
   ]
  },
  {
   "cell_type": "code",
   "execution_count": 2,
   "metadata": {},
   "outputs": [
    {
     "data": {
      "text/html": [
       "<div>\n",
       "<style scoped>\n",
       "    .dataframe tbody tr th:only-of-type {\n",
       "        vertical-align: middle;\n",
       "    }\n",
       "\n",
       "    .dataframe tbody tr th {\n",
       "        vertical-align: top;\n",
       "    }\n",
       "\n",
       "    .dataframe thead th {\n",
       "        text-align: right;\n",
       "    }\n",
       "</style>\n",
       "<table border=\"1\" class=\"dataframe\">\n",
       "  <thead>\n",
       "    <tr style=\"text-align: right;\">\n",
       "      <th></th>\n",
       "      <th>hashtags</th>\n",
       "      <th>text</th>\n",
       "      <th>tweet_id</th>\n",
       "      <th>identification</th>\n",
       "      <th>emotion</th>\n",
       "    </tr>\n",
       "  </thead>\n",
       "  <tbody>\n",
       "    <tr>\n",
       "      <th>0</th>\n",
       "      <td>['Snapchat']</td>\n",
       "      <td>People who post \"add me on #Snapchat\" must be ...</td>\n",
       "      <td>0x376b20</td>\n",
       "      <td>train</td>\n",
       "      <td>anticipation</td>\n",
       "    </tr>\n",
       "    <tr>\n",
       "      <th>1</th>\n",
       "      <td>['freepress', 'TrumpLegacy', 'CNN']</td>\n",
       "      <td>@brianklaas As we see, Trump is dangerous to #...</td>\n",
       "      <td>0x2d5350</td>\n",
       "      <td>train</td>\n",
       "      <td>sadness</td>\n",
       "    </tr>\n",
       "    <tr>\n",
       "      <th>2</th>\n",
       "      <td>[]</td>\n",
       "      <td>Now ISSA is stalking Tasha 😂😂😂 &lt;LH&gt;</td>\n",
       "      <td>0x1cd5b0</td>\n",
       "      <td>train</td>\n",
       "      <td>fear</td>\n",
       "    </tr>\n",
       "    <tr>\n",
       "      <th>3</th>\n",
       "      <td>['authentic', 'LaughOutLoud']</td>\n",
       "      <td>@RISKshow @TheKevinAllison Thx for the BEST TI...</td>\n",
       "      <td>0x1d755c</td>\n",
       "      <td>train</td>\n",
       "      <td>joy</td>\n",
       "    </tr>\n",
       "    <tr>\n",
       "      <th>4</th>\n",
       "      <td>[]</td>\n",
       "      <td>Still waiting on those supplies Liscus. &lt;LH&gt;</td>\n",
       "      <td>0x2c91a8</td>\n",
       "      <td>train</td>\n",
       "      <td>anticipation</td>\n",
       "    </tr>\n",
       "  </tbody>\n",
       "</table>\n",
       "</div>"
      ],
      "text/plain": [
       "                              hashtags  \\\n",
       "0                         ['Snapchat']   \n",
       "1  ['freepress', 'TrumpLegacy', 'CNN']   \n",
       "2                                   []   \n",
       "3        ['authentic', 'LaughOutLoud']   \n",
       "4                                   []   \n",
       "\n",
       "                                                text  tweet_id identification  \\\n",
       "0  People who post \"add me on #Snapchat\" must be ...  0x376b20          train   \n",
       "1  @brianklaas As we see, Trump is dangerous to #...  0x2d5350          train   \n",
       "2                Now ISSA is stalking Tasha 😂😂😂 <LH>  0x1cd5b0          train   \n",
       "3  @RISKshow @TheKevinAllison Thx for the BEST TI...  0x1d755c          train   \n",
       "4       Still waiting on those supplies Liscus. <LH>  0x2c91a8          train   \n",
       "\n",
       "        emotion  \n",
       "0  anticipation  \n",
       "1       sadness  \n",
       "2          fear  \n",
       "3           joy  \n",
       "4  anticipation  "
      ]
     },
     "execution_count": 2,
     "metadata": {},
     "output_type": "execute_result"
    }
   ],
   "source": [
    "Train_tweet = pd.read_csv('tweet_train.csv', lineterminator='\\n')\n",
    "Train_tweet.head()"
   ]
  },
  {
   "cell_type": "code",
   "execution_count": 3,
   "metadata": {},
   "outputs": [
    {
     "data": {
      "text/html": [
       "<div>\n",
       "<style scoped>\n",
       "    .dataframe tbody tr th:only-of-type {\n",
       "        vertical-align: middle;\n",
       "    }\n",
       "\n",
       "    .dataframe tbody tr th {\n",
       "        vertical-align: top;\n",
       "    }\n",
       "\n",
       "    .dataframe thead th {\n",
       "        text-align: right;\n",
       "    }\n",
       "</style>\n",
       "<table border=\"1\" class=\"dataframe\">\n",
       "  <thead>\n",
       "    <tr style=\"text-align: right;\">\n",
       "      <th></th>\n",
       "      <th>hashtags</th>\n",
       "      <th>text</th>\n",
       "      <th>tweet_id</th>\n",
       "      <th>identification</th>\n",
       "    </tr>\n",
       "  </thead>\n",
       "  <tbody>\n",
       "    <tr>\n",
       "      <th>0</th>\n",
       "      <td>['bibleverse']</td>\n",
       "      <td>Confident of your obedience, I write to you, k...</td>\n",
       "      <td>0x28b412</td>\n",
       "      <td>test</td>\n",
       "    </tr>\n",
       "    <tr>\n",
       "      <th>1</th>\n",
       "      <td>[]</td>\n",
       "      <td>\"Trust is not the same as faith. A friend is s...</td>\n",
       "      <td>0x2de201</td>\n",
       "      <td>test</td>\n",
       "    </tr>\n",
       "    <tr>\n",
       "      <th>2</th>\n",
       "      <td>['materialism', 'money', 'possessions']</td>\n",
       "      <td>When do you have enough ? When are you satisfi...</td>\n",
       "      <td>0x218443</td>\n",
       "      <td>test</td>\n",
       "    </tr>\n",
       "    <tr>\n",
       "      <th>3</th>\n",
       "      <td>['GodsPlan', 'GodsWork']</td>\n",
       "      <td>God woke you up, now chase the day #GodsPlan #...</td>\n",
       "      <td>0x2939d5</td>\n",
       "      <td>test</td>\n",
       "    </tr>\n",
       "    <tr>\n",
       "      <th>4</th>\n",
       "      <td>[]</td>\n",
       "      <td>In these tough times, who do YOU turn to as yo...</td>\n",
       "      <td>0x26289a</td>\n",
       "      <td>test</td>\n",
       "    </tr>\n",
       "  </tbody>\n",
       "</table>\n",
       "</div>"
      ],
      "text/plain": [
       "                                  hashtags  \\\n",
       "0                           ['bibleverse']   \n",
       "1                                       []   \n",
       "2  ['materialism', 'money', 'possessions']   \n",
       "3                 ['GodsPlan', 'GodsWork']   \n",
       "4                                       []   \n",
       "\n",
       "                                                text  tweet_id identification  \n",
       "0  Confident of your obedience, I write to you, k...  0x28b412           test  \n",
       "1  \"Trust is not the same as faith. A friend is s...  0x2de201           test  \n",
       "2  When do you have enough ? When are you satisfi...  0x218443           test  \n",
       "3  God woke you up, now chase the day #GodsPlan #...  0x2939d5           test  \n",
       "4  In these tough times, who do YOU turn to as yo...  0x26289a           test  "
      ]
     },
     "execution_count": 3,
     "metadata": {},
     "output_type": "execute_result"
    }
   ],
   "source": [
    "Test_tweet = pd.read_csv('tweet_test.csv', lineterminator='\\n')\n",
    "Test_tweet.head()"
   ]
  },
  {
   "cell_type": "code",
   "execution_count": 4,
   "metadata": {},
   "outputs": [
    {
     "data": {
      "text/plain": [
       "array([[0., 1., 0., 0., 0., 0., 0., 0.],\n",
       "       [0., 0., 0., 0., 0., 1., 0., 0.],\n",
       "       [0., 0., 0., 1., 0., 0., 0., 0.],\n",
       "       [0., 0., 0., 0., 1., 0., 0., 0.],\n",
       "       [0., 1., 0., 0., 0., 0., 0., 0.]], dtype=float32)"
      ]
     },
     "execution_count": 4,
     "metadata": {},
     "output_type": "execute_result"
    }
   ],
   "source": [
    "# Label encoder\n",
    "L_ENC = LabelEncoder()\n",
    "LABEL = L_ENC.fit_transform(Train_tweet['emotion'])\n",
    "\n",
    "import keras\n",
    "LABEL_category = keras.utils.to_categorical(LABEL)  # convert to one hot encoding\n",
    "\n",
    "# labels\n",
    "LABEL_category[0:5]"
   ]
  },
  {
   "cell_type": "markdown",
   "metadata": {},
   "source": [
    "Mainly change the **max_features** here, since more features classifier can have more ability to seperate different classes. But too many features will cause curse of dimensionality "
   ]
  },
  {
   "cell_type": "code",
   "execution_count": 15,
   "metadata": {},
   "outputs": [
    {
     "name": "stdout",
     "output_type": "stream",
     "text": [
      "(1455563, 5000)\n"
     ]
    }
   ],
   "source": [
    "# TFIDF\n",
    "TFIDF = TfidfVectorizer(max_features=5000, tokenizer=nltk.word_tokenize)\n",
    "\n",
    "TRAIN_TFIDF = TFIDF.fit_transform(Train_tweet['text'])\n",
    "print(TRAIN_TFIDF.shape)"
   ]
  },
  {
   "cell_type": "code",
   "execution_count": 16,
   "metadata": {},
   "outputs": [
    {
     "name": "stdout",
     "output_type": "stream",
     "text": [
      "X_train.shape:  (1091672, 5000)\n",
      "y_train.shape:  (1091672, 8)\n",
      "X_test.shape:  (363891, 5000)\n",
      "y_test.shape:  (363891, 8)\n"
     ]
    }
   ],
   "source": [
    "# validation\n",
    "X_train, X_val, Y_train, Y_val = train_test_split(TRAIN_TFIDF, LABEL_category,  test_size=0.25)\n",
    "print('X_train.shape: ', X_train.shape)\n",
    "print('y_train.shape: ', Y_train.shape)\n",
    "print('X_test.shape: ', X_val.shape)\n",
    "print('y_test.shape: ', Y_val.shape)"
   ]
  },
  {
   "cell_type": "code",
   "execution_count": 17,
   "metadata": {},
   "outputs": [
    {
     "name": "stdout",
     "output_type": "stream",
     "text": [
      "input_shape:  5000\n",
      "output_shape:  8\n"
     ]
    }
   ],
   "source": [
    "# I/O check\n",
    "input_shape = X_train.shape[1]\n",
    "print('input_shape: ', input_shape)\n",
    "\n",
    "output_shape = len(L_ENC.classes_)\n",
    "print('output_shape: ', output_shape)"
   ]
  },
  {
   "cell_type": "code",
   "execution_count": 20,
   "metadata": {},
   "outputs": [],
   "source": [
    "# model - NN\n",
    "from keras.models import Model\n",
    "from keras.layers import Input, Dense\n",
    "from keras.layers import ReLU, Softmax\n",
    "\n",
    "# input layer\n",
    "model_input = Input(shape=(input_shape, ))  # max_features\n",
    "X = model_input\n",
    "\n",
    "# 1st hidden layer\n",
    "X_W1 = Dense(units=64)(X)  # 64\n",
    "H1 = ReLU()(X_W1)\n",
    "\n",
    "# 2nd hidden layer\n",
    "H1_W2 = Dense(units=64)(H1)  # 64\n",
    "H2 = ReLU()(H1_W2)\n",
    "\n",
    "# 3nd hidden layer\n",
    "H2_W3 = Dense(units=32)(H2)  # 64\n",
    "H3 = ReLU()(H2_W3)\n",
    "\n",
    "# output layer\n",
    "H3_W4 = Dense(units=output_shape)(H3)  # 8\n",
    "H4 = Softmax()(H3_W4)\n",
    "\n",
    "model_output = H4\n",
    "\n",
    "# create model\n",
    "model = Model(inputs=[model_input], outputs=[model_output])\n",
    "\n",
    "# loss function & optimizer\n",
    "model.compile(optimizer='adam',\n",
    "              loss='categorical_crossentropy',\n",
    "              metrics=['accuracy'])"
   ]
  },
  {
   "cell_type": "markdown",
   "metadata": {},
   "source": [
    "### To correctly training a NN\n",
    "First, I train on the training set only and test on validation set. Then, choose a good epoch number that the model haven't overfitting. After that, combine the  training and validation set, retrain the whole model on both sets with epoch number previous found. "
   ]
  },
  {
   "cell_type": "code",
   "execution_count": 19,
   "metadata": {},
   "outputs": [
    {
     "name": "stdout",
     "output_type": "stream",
     "text": [
      "Train on 1091672 samples, validate on 363891 samples\n",
      "Epoch 1/30\n",
      "1091672/1091672 [==============================] - 282s 258us/step - loss: 1.2723 - accuracy: 0.5387 - val_loss: 1.2198 - val_accuracy: 0.5565\n",
      "Epoch 2/30\n",
      "1091672/1091672 [==============================] - 295s 270us/step - loss: 1.1876 - accuracy: 0.5686 - val_loss: 1.2071 - val_accuracy: 0.5617\n",
      "Epoch 3/30\n",
      "1091672/1091672 [==============================] - 284s 260us/step - loss: 1.1543 - accuracy: 0.5815 - val_loss: 1.2054 - val_accuracy: 0.5629\n",
      "Epoch 4/30\n",
      "1091672/1091672 [==============================] - 294s 269us/step - loss: 1.1306 - accuracy: 0.5904 - val_loss: 1.2111 - val_accuracy: 0.5622\n",
      "Epoch 5/30\n",
      "1091672/1091672 [==============================] - 305s 280us/step - loss: 1.1122 - accuracy: 0.5983 - val_loss: 1.2151 - val_accuracy: 0.5606\n",
      "Epoch 6/30\n",
      "1091672/1091672 [==============================] - 309s 283us/step - loss: 1.0969 - accuracy: 0.6043 - val_loss: 1.2246 - val_accuracy: 0.5605\n",
      "Epoch 7/30\n",
      "1091672/1091672 [==============================] - 297s 272us/step - loss: 1.0843 - accuracy: 0.6100 - val_loss: 1.2378 - val_accuracy: 0.5534\n",
      "Epoch 8/30\n",
      "1091672/1091672 [==============================] - 294s 269us/step - loss: 1.0734 - accuracy: 0.6145 - val_loss: 1.2421 - val_accuracy: 0.5559\n",
      "Epoch 9/30\n",
      "1091672/1091672 [==============================] - 297s 272us/step - loss: 1.0634 - accuracy: 0.6186 - val_loss: 1.2470 - val_accuracy: 0.5563\n",
      "Epoch 10/30\n",
      "1091672/1091672 [==============================] - 313s 286us/step - loss: 1.0548 - accuracy: 0.6226 - val_loss: 1.2597 - val_accuracy: 0.5500\n",
      "Epoch 11/30\n",
      "1091672/1091672 [==============================] - 326s 299us/step - loss: 1.0468 - accuracy: 0.6260 - val_loss: 1.2615 - val_accuracy: 0.5539\n",
      "Epoch 12/30\n",
      "1091672/1091672 [==============================] - 317s 290us/step - loss: 1.0399 - accuracy: 0.6289 - val_loss: 1.2703 - val_accuracy: 0.5514\n",
      "Epoch 13/30\n",
      "1091672/1091672 [==============================] - 319s 292us/step - loss: 1.0333 - accuracy: 0.6319 - val_loss: 1.2762 - val_accuracy: 0.5515\n",
      "Epoch 14/30\n",
      "1091672/1091672 [==============================] - 333s 305us/step - loss: 1.0273 - accuracy: 0.6342 - val_loss: 1.2845 - val_accuracy: 0.5505\n",
      "Epoch 15/30\n",
      "1091672/1091672 [==============================] - 314s 288us/step - loss: 1.0219 - accuracy: 0.6365 - val_loss: 1.3013 - val_accuracy: 0.5502\n",
      "Epoch 16/30\n",
      "1091672/1091672 [==============================] - 310s 284us/step - loss: 1.0169 - accuracy: 0.6388 - val_loss: 1.3024 - val_accuracy: 0.5460\n",
      "Epoch 17/30\n",
      "1091672/1091672 [==============================] - 314s 288us/step - loss: 1.0120 - accuracy: 0.6410 - val_loss: 1.3052 - val_accuracy: 0.5473\n",
      "Epoch 18/30\n",
      "1091672/1091672 [==============================] - 323s 296us/step - loss: 1.0074 - accuracy: 0.6428 - val_loss: 1.3083 - val_accuracy: 0.5414\n",
      "Epoch 19/30\n",
      "1091672/1091672 [==============================] - 326s 299us/step - loss: 1.0031 - accuracy: 0.6449 - val_loss: 1.3185 - val_accuracy: 0.5444\n",
      "Epoch 20/30\n",
      "1091672/1091672 [==============================] - 322s 295us/step - loss: 0.9992 - accuracy: 0.6467 - val_loss: 1.3221 - val_accuracy: 0.5420\n",
      "Epoch 21/30\n",
      "1091672/1091672 [==============================] - 317s 291us/step - loss: 0.9955 - accuracy: 0.6479 - val_loss: 1.3300 - val_accuracy: 0.5411\n",
      "Epoch 22/30\n",
      "1091672/1091672 [==============================] - 319s 293us/step - loss: 0.9919 - accuracy: 0.6495 - val_loss: 1.3325 - val_accuracy: 0.5426\n",
      "Epoch 23/30\n",
      "1091672/1091672 [==============================] - 308s 282us/step - loss: 0.9884 - accuracy: 0.6510 - val_loss: 1.3405 - val_accuracy: 0.5398\n",
      "Epoch 24/30\n",
      "1091672/1091672 [==============================] - 303s 278us/step - loss: 0.9851 - accuracy: 0.6520 - val_loss: 1.3436 - val_accuracy: 0.5390\n",
      "Epoch 25/30\n",
      "1091672/1091672 [==============================] - 307s 281us/step - loss: 0.9824 - accuracy: 0.6531 - val_loss: 1.3418 - val_accuracy: 0.5389\n",
      "Epoch 26/30\n",
      "1091672/1091672 [==============================] - 319s 293us/step - loss: 0.9793 - accuracy: 0.6547 - val_loss: 1.3539 - val_accuracy: 0.5379\n",
      "Epoch 27/30\n",
      "1091672/1091672 [==============================] - 307s 281us/step - loss: 0.9764 - accuracy: 0.6558 - val_loss: 1.3568 - val_accuracy: 0.5384\n",
      "Epoch 28/30\n",
      "1091672/1091672 [==============================] - 321s 294us/step - loss: 0.9737 - accuracy: 0.6569 - val_loss: 1.3704 - val_accuracy: 0.5358\n",
      "Epoch 29/30\n",
      "1091672/1091672 [==============================] - 315s 289us/step - loss: 0.9711 - accuracy: 0.6584 - val_loss: 1.3794 - val_accuracy: 0.5335\n",
      "Epoch 30/30\n",
      "1091672/1091672 [==============================] - 316s 290us/step - loss: 0.9687 - accuracy: 0.6591 - val_loss: 1.3808 - val_accuracy: 0.5344\n",
      "training finish\n"
     ]
    }
   ],
   "source": [
    "# training setting\n",
    "epochs = 30\n",
    "batch_size = 32\n",
    "\n",
    "# training!\n",
    "history = model.fit(X_train, Y_train, \n",
    "                    epochs=epochs, \n",
    "                    batch_size=batch_size,\n",
    "                    validation_data = (X_val, Y_val))\n",
    "print('training finish')"
   ]
  },
  {
   "cell_type": "markdown",
   "metadata": {},
   "source": [
    "#### Reasonable epochs is 12"
   ]
  },
  {
   "cell_type": "code",
   "execution_count": 21,
   "metadata": {},
   "outputs": [
    {
     "name": "stdout",
     "output_type": "stream",
     "text": [
      "Epoch 1/12\n",
      "1455563/1455563 [==============================] - 389s 267us/step - loss: 1.2593 - accuracy: 0.5432\n",
      "Epoch 2/12\n",
      "1455563/1455563 [==============================] - 352s 242us/step - loss: 1.1836 - accuracy: 0.5702\n",
      "Epoch 3/12\n",
      "1455563/1455563 [==============================] - 350s 240us/step - loss: 1.1558 - accuracy: 0.5807\n",
      "Epoch 4/12\n",
      "1455563/1455563 [==============================] - 349s 239us/step - loss: 1.1370 - accuracy: 0.5881\n",
      "Epoch 5/12\n",
      "1455563/1455563 [==============================] - 346s 238us/step - loss: 1.1229 - accuracy: 0.5940\n",
      "Epoch 6/12\n",
      "1455563/1455563 [==============================] - 352s 242us/step - loss: 1.1112 - accuracy: 0.5985\n",
      "Epoch 7/12\n",
      "1455563/1455563 [==============================] - 361s 248us/step - loss: 1.1014 - accuracy: 0.6027\n",
      "Epoch 8/12\n",
      "1455563/1455563 [==============================] - 349s 240us/step - loss: 1.0933 - accuracy: 0.6065\n",
      "Epoch 9/12\n",
      "1455563/1455563 [==============================] - 347s 238us/step - loss: 1.0858 - accuracy: 0.6095\n",
      "Epoch 10/12\n",
      "1455563/1455563 [==============================] - 351s 241us/step - loss: 1.0796 - accuracy: 0.6123\n",
      "Epoch 11/12\n",
      "1455563/1455563 [==============================] - 344s 237us/step - loss: 1.0739 - accuracy: 0.6147\n",
      "Epoch 12/12\n",
      "1455563/1455563 [==============================] - 354s 243us/step - loss: 1.0688 - accuracy: 0.6168\n",
      "training finish\n"
     ]
    }
   ],
   "source": [
    "# retrain on whole dataset\n",
    "epochs = 12\n",
    "batch_size = 32\n",
    "\n",
    "history = model.fit(TRAIN_TFIDF, LABEL_category,\n",
    "                    epochs=epochs, \n",
    "                    batch_size=batch_size)\n",
    "print('training finish')"
   ]
  },
  {
   "cell_type": "code",
   "execution_count": 22,
   "metadata": {},
   "outputs": [
    {
     "name": "stdout",
     "output_type": "stream",
     "text": [
      "['anticipation' 'anticipation' 'sadness' 'joy' 'anticipation'\n",
      " 'anticipation' 'joy' 'joy' 'joy' 'joy']\n",
      "(411972,)\n"
     ]
    }
   ],
   "source": [
    "# Predict test result\n",
    "TEST_TFIDF = TFIDF.transform(Test_tweet['text'])\n",
    "\n",
    "# predict\n",
    "pred_result = model.predict(TEST_TFIDF, batch_size=32)\n",
    "pred_label = np.argmax(pred_result, axis=1)\n",
    "\n",
    "# convert label back to original result\n",
    "test_label = L_ENC.inverse_transform(pred_label)\n",
    "print(test_label[0:10])\n",
    "print(test_label.shape)"
   ]
  },
  {
   "cell_type": "code",
   "execution_count": 23,
   "metadata": {},
   "outputs": [
    {
     "name": "stdout",
     "output_type": "stream",
     "text": [
      "(411972, 2)\n"
     ]
    }
   ],
   "source": [
    "# concat to result\n",
    "RESULT = pd.DataFrame(columns=['id','emotion'])\n",
    "RESULT['id'] = Test_tweet['tweet_id']\n",
    "RESULT['emotion'] = test_label\n",
    "print(RESULT.shape)\n",
    "\n",
    "# save it for submission\n",
    "RESULT.to_csv('result.csv', index=False)"
   ]
  },
  {
   "cell_type": "markdown",
   "metadata": {},
   "source": [
    "### Appendix\n",
    "Following is the code that I used when I was using **Xgboost** as classifier"
   ]
  },
  {
   "cell_type": "code",
   "execution_count": 7,
   "metadata": {},
   "outputs": [
    {
     "name": "stdout",
     "output_type": "stream",
     "text": [
      "weighted f1_score: 0.48181\n"
     ]
    }
   ],
   "source": [
    "# model - Xgboost\n",
    "clf = XGBClassifier(max_depth=5, n_estimators=100,learning_rate=0.1, colsample_bytree=1)\n",
    "clf.fit(X_train, Y_train)\n",
    "\n",
    "# pred\n",
    "pred = clf.predict(X_val)\n",
    "\n",
    "# evaluate\n",
    "print('weighted f1_score: %.5f' % f1_score(Y_val, pred, average='weighted'))"
   ]
  },
  {
   "cell_type": "code",
   "execution_count": 9,
   "metadata": {},
   "outputs": [
    {
     "name": "stdout",
     "output_type": "stream",
     "text": [
      "[4 1 2 1 7 4 4 4 4 4]\n",
      "['joy' 'anticipation' 'disgust' 'anticipation' 'trust' 'joy' 'joy' 'joy'\n",
      " 'joy' 'joy']\n"
     ]
    }
   ],
   "source": [
    "# Predict test result\n",
    "TEST_TFIDF = TFIDF.transform(Test_tweet['text'])\n",
    "\n",
    "# retrain on whole dataset\n",
    "clf.fit(TRAIN_TFIDF, LABEL)\n",
    "\n",
    "# predict test label\n",
    "test_pred = clf.predict(TEST_TFIDF)\n",
    "print(test_pred[0:10])\n",
    "\n",
    "# convert label back to original result\n",
    "test_label = L_ENC.inverse_transform(test_pred)\n",
    "print(test_label[0:10])"
   ]
  },
  {
   "cell_type": "code",
   "execution_count": 8,
   "metadata": {},
   "outputs": [],
   "source": [
    "# save the model for further usage\n",
    "clf.save_model('Xgb.model')\n",
    "\n",
    "# load model\n",
    "# bst =  XGBClassifier(max_depth=5, n_estimators=100,learning_rate=0.1, colsample_bytree=1)  # init model\n",
    "# bst.load_model('Xgb.model')"
   ]
  }
 ],
 "metadata": {
  "kernelspec": {
   "display_name": "Python 3",
   "language": "python",
   "name": "python3"
  },
  "language_info": {
   "codemirror_mode": {
    "name": "ipython",
    "version": 3
   },
   "file_extension": ".py",
   "mimetype": "text/x-python",
   "name": "python",
   "nbconvert_exporter": "python",
   "pygments_lexer": "ipython3",
   "version": "3.5.6"
  },
  "varInspector": {
   "cols": {
    "lenName": 16,
    "lenType": 16,
    "lenVar": 40
   },
   "kernels_config": {
    "python": {
     "delete_cmd_postfix": "",
     "delete_cmd_prefix": "del ",
     "library": "var_list.py",
     "varRefreshCmd": "print(var_dic_list())"
    },
    "r": {
     "delete_cmd_postfix": ") ",
     "delete_cmd_prefix": "rm(",
     "library": "var_list.r",
     "varRefreshCmd": "cat(var_dic_list()) "
    }
   },
   "types_to_exclude": [
    "module",
    "function",
    "builtin_function_or_method",
    "instance",
    "_Feature"
   ],
   "window_display": false
  }
 },
 "nbformat": 4,
 "nbformat_minor": 2
}
